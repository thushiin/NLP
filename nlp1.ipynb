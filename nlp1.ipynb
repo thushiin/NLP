{
 "cells": [
  {
   "cell_type": "code",
   "execution_count": 1,
   "id": "03f7c7ba-7894-4992-82ae-1e602263aa42",
   "metadata": {
    "tags": []
   },
   "outputs": [
    {
     "name": "stdout",
     "output_type": "stream",
     "text": [
      "Collecting nltk\n",
      "  Downloading nltk-3.8.1-py3-none-any.whl (1.5 MB)\n",
      "\u001b[2K     \u001b[90m━━━━━━━━━━━━━━━━━━━━━━━━━━━━━━━━━━━━━━━━\u001b[0m \u001b[32m1.5/1.5 MB\u001b[0m \u001b[31m6.9 MB/s\u001b[0m eta \u001b[36m0:00:00\u001b[0m00:01\u001b[0m00:01\u001b[0m\n",
      "\u001b[?25hRequirement already satisfied: click in /Library/Frameworks/Python.framework/Versions/3.11/lib/python3.11/site-packages (from nltk) (8.1.7)\n",
      "Requirement already satisfied: joblib in /Library/Frameworks/Python.framework/Versions/3.11/lib/python3.11/site-packages (from nltk) (1.3.2)\n",
      "Collecting regex>=2021.8.3 (from nltk)\n",
      "  Downloading regex-2023.12.25-cp311-cp311-macosx_11_0_arm64.whl (291 kB)\n",
      "\u001b[2K     \u001b[90m━━━━━━━━━━━━━━━━━━━━━━━━━━━━━━━━━━━━━━━\u001b[0m \u001b[32m291.0/291.0 kB\u001b[0m \u001b[31m7.1 MB/s\u001b[0m eta \u001b[36m0:00:00\u001b[0ma \u001b[36m0:00:01\u001b[0m\n",
      "\u001b[?25hCollecting tqdm (from nltk)\n",
      "  Downloading tqdm-4.66.2-py3-none-any.whl (78 kB)\n",
      "\u001b[2K     \u001b[90m━━━━━━━━━━━━━━━━━━━━━━━━━━━━━━━━━━━━━━━━\u001b[0m \u001b[32m78.3/78.3 kB\u001b[0m \u001b[31m3.8 MB/s\u001b[0m eta \u001b[36m0:00:00\u001b[0m\n",
      "\u001b[?25hInstalling collected packages: tqdm, regex, nltk\n",
      "Successfully installed nltk-3.8.1 regex-2023.12.25 tqdm-4.66.2\n",
      "\n",
      "\u001b[1m[\u001b[0m\u001b[34;49mnotice\u001b[0m\u001b[1;39;49m]\u001b[0m\u001b[39;49m A new release of pip is available: \u001b[0m\u001b[31;49m23.1.2\u001b[0m\u001b[39;49m -> \u001b[0m\u001b[32;49m24.0\u001b[0m\n",
      "\u001b[1m[\u001b[0m\u001b[34;49mnotice\u001b[0m\u001b[1;39;49m]\u001b[0m\u001b[39;49m To update, run: \u001b[0m\u001b[32;49mpip3 install --upgrade pip\u001b[0m\n",
      "Note: you may need to restart the kernel to use updated packages.\n"
     ]
    }
   ],
   "source": [
    "pip install nltk"
   ]
  },
  {
   "cell_type": "code",
   "execution_count": 1,
   "id": "2256a307-50c9-4330-aedd-b15f4c471e18",
   "metadata": {
    "tags": []
   },
   "outputs": [],
   "source": [
    "import nltk"
   ]
  },
  {
   "cell_type": "code",
   "execution_count": 2,
   "id": "f307335a-1c6e-450d-b2b1-25766576ad65",
   "metadata": {
    "tags": []
   },
   "outputs": [
    {
     "name": "stderr",
     "output_type": "stream",
     "text": [
      "2024-04-01 09:57:03.045 Python[38068:25934495] WARNING: Secure coding is not enabled for restorable state! Enable secure coding by implementing NSApplicationDelegate.applicationSupportsSecureRestorableState: and returning YES.\n"
     ]
    },
    {
     "name": "stdout",
     "output_type": "stream",
     "text": [
      "showing info https://raw.githubusercontent.com/nltk/nltk_data/gh-pages/index.xml\n"
     ]
    },
    {
     "data": {
      "text/plain": [
       "True"
      ]
     },
     "execution_count": 2,
     "metadata": {},
     "output_type": "execute_result"
    }
   ],
   "source": [
    "nltk.download()"
   ]
  },
  {
   "cell_type": "code",
   "execution_count": 3,
   "id": "ab6d992f-48bd-4724-880b-4f18142cc088",
   "metadata": {
    "tags": []
   },
   "outputs": [],
   "source": [
    "data='A paragraph is a series of sentences that are organized and coherent, and are all related to a single topic. Almost every piece of writing you do that is longer than a few sentences should be organized into paragraphs. This is because paragraphs show a reader where the subdivisions of an essay begin and end, and thus help the reader see the organization of the essay and grasp its main points.'"
   ]
  },
  {
   "cell_type": "code",
   "execution_count": 4,
   "id": "a5b255b8-0c5f-4bd2-9310-bac3c63ea282",
   "metadata": {
    "tags": []
   },
   "outputs": [],
   "source": [
    "# from nltk.tokenize import sent_tokenize\n",
    "# sentences=sent_tokenize(data)\n",
    "\n",
    "sentences=nltk.sent_tokenize(data)"
   ]
  },
  {
   "cell_type": "code",
   "execution_count": 5,
   "id": "dd3aa09c-a4a5-4ee7-8698-d992c896fca4",
   "metadata": {
    "tags": []
   },
   "outputs": [
    {
     "data": {
      "text/plain": [
       "['A paragraph is a series of sentences that are organized and coherent, and are all related to a single topic.',\n",
       " 'Almost every piece of writing you do that is longer than a few sentences should be organized into paragraphs.',\n",
       " 'This is because paragraphs show a reader where the subdivisions of an essay begin and end, and thus help the reader see the organization of the essay and grasp its main points.']"
      ]
     },
     "execution_count": 5,
     "metadata": {},
     "output_type": "execute_result"
    }
   ],
   "source": [
    "sentences"
   ]
  },
  {
   "cell_type": "code",
   "execution_count": 7,
   "id": "89009442-0968-479b-bc2d-a2efed8c6df6",
   "metadata": {
    "tags": []
   },
   "outputs": [
    {
     "data": {
      "text/plain": [
       "3"
      ]
     },
     "execution_count": 7,
     "metadata": {},
     "output_type": "execute_result"
    }
   ],
   "source": [
    "len(sentences)"
   ]
  },
  {
   "cell_type": "code",
   "execution_count": 9,
   "id": "d3f4095d-703b-488f-960a-1abc34f79cb2",
   "metadata": {
    "tags": []
   },
   "outputs": [],
   "source": [
    "words=nltk.word_tokenize(data)"
   ]
  },
  {
   "cell_type": "code",
   "execution_count": 10,
   "id": "fbf5c754-5910-4ee3-9fd9-27273f785065",
   "metadata": {
    "tags": []
   },
   "outputs": [
    {
     "data": {
      "text/plain": [
       "['A',\n",
       " 'paragraph',\n",
       " 'is',\n",
       " 'a',\n",
       " 'series',\n",
       " 'of',\n",
       " 'sentences',\n",
       " 'that',\n",
       " 'are',\n",
       " 'organized',\n",
       " 'and',\n",
       " 'coherent',\n",
       " ',',\n",
       " 'and',\n",
       " 'are',\n",
       " 'all',\n",
       " 'related',\n",
       " 'to',\n",
       " 'a',\n",
       " 'single',\n",
       " 'topic',\n",
       " '.',\n",
       " 'Almost',\n",
       " 'every',\n",
       " 'piece',\n",
       " 'of',\n",
       " 'writing',\n",
       " 'you',\n",
       " 'do',\n",
       " 'that',\n",
       " 'is',\n",
       " 'longer',\n",
       " 'than',\n",
       " 'a',\n",
       " 'few',\n",
       " 'sentences',\n",
       " 'should',\n",
       " 'be',\n",
       " 'organized',\n",
       " 'into',\n",
       " 'paragraphs',\n",
       " '.',\n",
       " 'This',\n",
       " 'is',\n",
       " 'because',\n",
       " 'paragraphs',\n",
       " 'show',\n",
       " 'a',\n",
       " 'reader',\n",
       " 'where',\n",
       " 'the',\n",
       " 'subdivisions',\n",
       " 'of',\n",
       " 'an',\n",
       " 'essay',\n",
       " 'begin',\n",
       " 'and',\n",
       " 'end',\n",
       " ',',\n",
       " 'and',\n",
       " 'thus',\n",
       " 'help',\n",
       " 'the',\n",
       " 'reader',\n",
       " 'see',\n",
       " 'the',\n",
       " 'organization',\n",
       " 'of',\n",
       " 'the',\n",
       " 'essay',\n",
       " 'and',\n",
       " 'grasp',\n",
       " 'its',\n",
       " 'main',\n",
       " 'points',\n",
       " '.']"
      ]
     },
     "execution_count": 10,
     "metadata": {},
     "output_type": "execute_result"
    }
   ],
   "source": [
    "words"
   ]
  },
  {
   "cell_type": "code",
   "execution_count": 11,
   "id": "08da35c7-a47b-4c45-b2ae-a25bcf1583f1",
   "metadata": {
    "tags": []
   },
   "outputs": [
    {
     "data": {
      "text/plain": [
       "76"
      ]
     },
     "execution_count": 11,
     "metadata": {},
     "output_type": "execute_result"
    }
   ],
   "source": [
    "len(words)"
   ]
  },
  {
   "cell_type": "markdown",
   "id": "0a9c18c3-2d54-4d3f-8696-15656d2392f7",
   "metadata": {},
   "source": []
  },
  {
   "cell_type": "markdown",
   "id": "df1880be-c634-4739-847f-e39a0268bf4c",
   "metadata": {},
   "source": [
    "STOPWORDS\n",
    "\n",
    "it considered as noise in the text. Text may contain stopwords such as is,am,are,a,an etc"
   ]
  },
  {
   "cell_type": "code",
   "execution_count": 12,
   "id": "a9a5fb7a-5de6-4351-bda3-6de1b878a7eb",
   "metadata": {
    "tags": []
   },
   "outputs": [],
   "source": [
    "from nltk.corpus import stopwords"
   ]
  },
  {
   "cell_type": "code",
   "execution_count": 16,
   "id": "362cfa63-dbe4-4cd3-9c75-6be57d004994",
   "metadata": {
    "tags": []
   },
   "outputs": [
    {
     "data": {
      "text/plain": [
       "179"
      ]
     },
     "execution_count": 16,
     "metadata": {},
     "output_type": "execute_result"
    }
   ],
   "source": [
    "# sw=stopwords.words('german')\n",
    "sw=stopwords.words('english')\n",
    "len(sw)"
   ]
  },
  {
   "cell_type": "code",
   "execution_count": 17,
   "id": "77f2b88e-4749-46f1-981a-9481b766460a",
   "metadata": {
    "tags": []
   },
   "outputs": [
    {
     "data": {
      "text/plain": [
       "['i',\n",
       " 'me',\n",
       " 'my',\n",
       " 'myself',\n",
       " 'we',\n",
       " 'our',\n",
       " 'ours',\n",
       " 'ourselves',\n",
       " 'you',\n",
       " \"you're\",\n",
       " \"you've\",\n",
       " \"you'll\",\n",
       " \"you'd\",\n",
       " 'your',\n",
       " 'yours',\n",
       " 'yourself',\n",
       " 'yourselves',\n",
       " 'he',\n",
       " 'him',\n",
       " 'his',\n",
       " 'himself',\n",
       " 'she',\n",
       " \"she's\",\n",
       " 'her',\n",
       " 'hers',\n",
       " 'herself',\n",
       " 'it',\n",
       " \"it's\",\n",
       " 'its',\n",
       " 'itself',\n",
       " 'they',\n",
       " 'them',\n",
       " 'their',\n",
       " 'theirs',\n",
       " 'themselves',\n",
       " 'what',\n",
       " 'which',\n",
       " 'who',\n",
       " 'whom',\n",
       " 'this',\n",
       " 'that',\n",
       " \"that'll\",\n",
       " 'these',\n",
       " 'those',\n",
       " 'am',\n",
       " 'is',\n",
       " 'are',\n",
       " 'was',\n",
       " 'were',\n",
       " 'be',\n",
       " 'been',\n",
       " 'being',\n",
       " 'have',\n",
       " 'has',\n",
       " 'had',\n",
       " 'having',\n",
       " 'do',\n",
       " 'does',\n",
       " 'did',\n",
       " 'doing',\n",
       " 'a',\n",
       " 'an',\n",
       " 'the',\n",
       " 'and',\n",
       " 'but',\n",
       " 'if',\n",
       " 'or',\n",
       " 'because',\n",
       " 'as',\n",
       " 'until',\n",
       " 'while',\n",
       " 'of',\n",
       " 'at',\n",
       " 'by',\n",
       " 'for',\n",
       " 'with',\n",
       " 'about',\n",
       " 'against',\n",
       " 'between',\n",
       " 'into',\n",
       " 'through',\n",
       " 'during',\n",
       " 'before',\n",
       " 'after',\n",
       " 'above',\n",
       " 'below',\n",
       " 'to',\n",
       " 'from',\n",
       " 'up',\n",
       " 'down',\n",
       " 'in',\n",
       " 'out',\n",
       " 'on',\n",
       " 'off',\n",
       " 'over',\n",
       " 'under',\n",
       " 'again',\n",
       " 'further',\n",
       " 'then',\n",
       " 'once',\n",
       " 'here',\n",
       " 'there',\n",
       " 'when',\n",
       " 'where',\n",
       " 'why',\n",
       " 'how',\n",
       " 'all',\n",
       " 'any',\n",
       " 'both',\n",
       " 'each',\n",
       " 'few',\n",
       " 'more',\n",
       " 'most',\n",
       " 'other',\n",
       " 'some',\n",
       " 'such',\n",
       " 'no',\n",
       " 'nor',\n",
       " 'not',\n",
       " 'only',\n",
       " 'own',\n",
       " 'same',\n",
       " 'so',\n",
       " 'than',\n",
       " 'too',\n",
       " 'very',\n",
       " 's',\n",
       " 't',\n",
       " 'can',\n",
       " 'will',\n",
       " 'just',\n",
       " 'don',\n",
       " \"don't\",\n",
       " 'should',\n",
       " \"should've\",\n",
       " 'now',\n",
       " 'd',\n",
       " 'll',\n",
       " 'm',\n",
       " 'o',\n",
       " 're',\n",
       " 've',\n",
       " 'y',\n",
       " 'ain',\n",
       " 'aren',\n",
       " \"aren't\",\n",
       " 'couldn',\n",
       " \"couldn't\",\n",
       " 'didn',\n",
       " \"didn't\",\n",
       " 'doesn',\n",
       " \"doesn't\",\n",
       " 'hadn',\n",
       " \"hadn't\",\n",
       " 'hasn',\n",
       " \"hasn't\",\n",
       " 'haven',\n",
       " \"haven't\",\n",
       " 'isn',\n",
       " \"isn't\",\n",
       " 'ma',\n",
       " 'mightn',\n",
       " \"mightn't\",\n",
       " 'mustn',\n",
       " \"mustn't\",\n",
       " 'needn',\n",
       " \"needn't\",\n",
       " 'shan',\n",
       " \"shan't\",\n",
       " 'shouldn',\n",
       " \"shouldn't\",\n",
       " 'wasn',\n",
       " \"wasn't\",\n",
       " 'weren',\n",
       " \"weren't\",\n",
       " 'won',\n",
       " \"won't\",\n",
       " 'wouldn',\n",
       " \"wouldn't\"]"
      ]
     },
     "execution_count": 17,
     "metadata": {},
     "output_type": "execute_result"
    }
   ],
   "source": [
    "sw"
   ]
  },
  {
   "cell_type": "code",
   "execution_count": 13,
   "id": "453fbbff-486c-4816-b4ca-a1329a6a47b8",
   "metadata": {
    "tags": []
   },
   "outputs": [],
   "source": [
    "# stemming or lemmatization removes end words\n",
    "# stemming is faster but not much efficient\n",
    "\n",
    "from nltk.stem import PorterStemmer\n",
    "from nltk.stem import WordNetLemmatizer\n"
   ]
  },
  {
   "cell_type": "code",
   "execution_count": 19,
   "id": "917d492d-b441-443b-a53f-80b91675aa11",
   "metadata": {
    "tags": []
   },
   "outputs": [],
   "source": [
    "stemm=PorterStemmer()\n",
    "lem=WordNetLemmatizer()"
   ]
  },
  {
   "cell_type": "code",
   "execution_count": 20,
   "id": "49516c43-9086-4d17-a5f5-3fac716b7575",
   "metadata": {
    "tags": []
   },
   "outputs": [
    {
     "data": {
      "text/plain": [
       "'come'"
      ]
     },
     "execution_count": 20,
     "metadata": {},
     "output_type": "execute_result"
    }
   ],
   "source": [
    "stemm.stem('Coming')"
   ]
  },
  {
   "cell_type": "code",
   "execution_count": 22,
   "id": "25463fd3-6b8b-42bf-b52b-60853299895d",
   "metadata": {
    "tags": []
   },
   "outputs": [
    {
     "data": {
      "text/plain": [
       "'coming'"
      ]
     },
     "execution_count": 22,
     "metadata": {},
     "output_type": "execute_result"
    }
   ],
   "source": [
    "lem.lemmatize('coming')"
   ]
  },
  {
   "cell_type": "code",
   "execution_count": 12,
   "id": "bdb4a388-9a87-46d1-8d37-cd6066cc94a9",
   "metadata": {
    "tags": []
   },
   "outputs": [],
   "source": [
    "# regular expression\n",
    "import re"
   ]
  },
  {
   "cell_type": "code",
   "execution_count": 25,
   "id": "388cb578-c1c5-4bbb-9752-571aa53f0d83",
   "metadata": {
    "tags": []
   },
   "outputs": [
    {
     "data": {
      "text/plain": [
       "'abcwww'"
      ]
     },
     "execution_count": 25,
     "metadata": {},
     "output_type": "execute_result"
    }
   ],
   "source": [
    "re.sub('[0-9]','w','abc123')"
   ]
  },
  {
   "cell_type": "code",
   "execution_count": 27,
   "id": "9428d07c-9f1b-4bbc-b788-d4b7b23682b1",
   "metadata": {
    "tags": []
   },
   "outputs": [
    {
     "data": {
      "text/plain": [
       "'123'"
      ]
     },
     "execution_count": 27,
     "metadata": {},
     "output_type": "execute_result"
    }
   ],
   "source": [
    "re.sub('[^0-9]','','abc123')"
   ]
  },
  {
   "cell_type": "code",
   "execution_count": 28,
   "id": "95a7d145-99cf-4f5f-a06d-342c09420d31",
   "metadata": {
    "tags": []
   },
   "outputs": [
    {
     "data": {
      "text/plain": [
       "'www123'"
      ]
     },
     "execution_count": 28,
     "metadata": {},
     "output_type": "execute_result"
    }
   ],
   "source": [
    "re.sub('[a-z]','w','abc123')"
   ]
  },
  {
   "cell_type": "code",
   "execution_count": 29,
   "id": "826e1664-bf80-417b-9ea8-3496666ca8c5",
   "metadata": {
    "tags": []
   },
   "outputs": [
    {
     "data": {
      "text/plain": [
       "'abcwww'"
      ]
     },
     "execution_count": 29,
     "metadata": {},
     "output_type": "execute_result"
    }
   ],
   "source": [
    "re.sub('[^a-z]','w','abc123')"
   ]
  },
  {
   "cell_type": "code",
   "execution_count": 54,
   "id": "43f89d07-f76f-4393-93c9-aca31069090a",
   "metadata": {
    "tags": []
   },
   "outputs": [
    {
     "data": {
      "text/plain": [
       "'w + 123w'"
      ]
     },
     "execution_count": 54,
     "metadata": {},
     "output_type": "execute_result"
    }
   ],
   "source": [
    "re.sub('[a-zA-Z]+','w','aBc + 123A')"
   ]
  },
  {
   "cell_type": "code",
   "execution_count": 34,
   "id": "6aaebcc8-6ded-4e66-a179-a7d01c28db24",
   "metadata": {
    "tags": []
   },
   "outputs": [
    {
     "data": {
      "text/plain": [
       "'AAwBwwwwA'"
      ]
     },
     "execution_count": 34,
     "metadata": {},
     "output_type": "execute_result"
    }
   ],
   "source": [
    "re.sub('[0-9a-z]','w','AAaBc123A')"
   ]
  },
  {
   "cell_type": "code",
   "execution_count": 42,
   "id": "3470d2a8-fe1f-42b2-8e29-c0b4fce6f424",
   "metadata": {
    "tags": []
   },
   "outputs": [
    {
     "data": {
      "text/plain": [
       "['ai']"
      ]
     },
     "execution_count": 42,
     "metadata": {},
     "output_type": "execute_result"
    }
   ],
   "source": [
    "re.findall('ai','spain')"
   ]
  },
  {
   "cell_type": "code",
   "execution_count": 43,
   "id": "13c2e040-6716-43a1-896e-27fcdea76bee",
   "metadata": {
    "tags": []
   },
   "outputs": [
    {
     "data": {
      "text/plain": [
       "[]"
      ]
     },
     "execution_count": 43,
     "metadata": {},
     "output_type": "execute_result"
    }
   ],
   "source": [
    "re.findall('c','spain')"
   ]
  },
  {
   "cell_type": "code",
   "execution_count": 65,
   "id": "d2bdd6a6-ae98-47fb-8c42-c7b08c0466aa",
   "metadata": {
    "tags": []
   },
   "outputs": [
    {
     "data": {
      "text/plain": [
       "['i',\n",
       " 'me',\n",
       " 'my',\n",
       " 'myself',\n",
       " 'we',\n",
       " 'our',\n",
       " 'ours',\n",
       " 'ourselves',\n",
       " 'you',\n",
       " \"you're\",\n",
       " \"you've\",\n",
       " \"you'll\",\n",
       " \"you'd\",\n",
       " 'your',\n",
       " 'yours',\n",
       " 'yourself',\n",
       " 'yourselves',\n",
       " 'he',\n",
       " 'him',\n",
       " 'his',\n",
       " 'himself',\n",
       " 'she',\n",
       " \"she's\",\n",
       " 'her',\n",
       " 'hers',\n",
       " 'herself',\n",
       " 'it',\n",
       " \"it's\",\n",
       " 'its',\n",
       " 'itself',\n",
       " 'they',\n",
       " 'them',\n",
       " 'their',\n",
       " 'theirs',\n",
       " 'themselves',\n",
       " 'what',\n",
       " 'which',\n",
       " 'who',\n",
       " 'whom',\n",
       " 'this',\n",
       " 'that',\n",
       " \"that'll\",\n",
       " 'these',\n",
       " 'those',\n",
       " 'am',\n",
       " 'is',\n",
       " 'are',\n",
       " 'was',\n",
       " 'were',\n",
       " 'be',\n",
       " 'been',\n",
       " 'being',\n",
       " 'have',\n",
       " 'has',\n",
       " 'had',\n",
       " 'having',\n",
       " 'do',\n",
       " 'does',\n",
       " 'did',\n",
       " 'doing',\n",
       " 'a',\n",
       " 'an',\n",
       " 'the',\n",
       " 'and',\n",
       " 'but',\n",
       " 'if',\n",
       " 'or',\n",
       " 'because',\n",
       " 'as',\n",
       " 'until',\n",
       " 'while',\n",
       " 'of',\n",
       " 'at',\n",
       " 'by',\n",
       " 'for',\n",
       " 'with',\n",
       " 'about',\n",
       " 'against',\n",
       " 'between',\n",
       " 'into',\n",
       " 'through',\n",
       " 'during',\n",
       " 'before',\n",
       " 'after',\n",
       " 'above',\n",
       " 'below',\n",
       " 'to',\n",
       " 'from',\n",
       " 'up',\n",
       " 'down',\n",
       " 'in',\n",
       " 'out',\n",
       " 'on',\n",
       " 'off',\n",
       " 'over',\n",
       " 'under',\n",
       " 'again',\n",
       " 'further',\n",
       " 'then',\n",
       " 'once',\n",
       " 'here',\n",
       " 'there',\n",
       " 'when',\n",
       " 'where',\n",
       " 'why',\n",
       " 'how',\n",
       " 'all',\n",
       " 'any',\n",
       " 'both',\n",
       " 'each',\n",
       " 'few',\n",
       " 'more',\n",
       " 'most',\n",
       " 'other',\n",
       " 'some',\n",
       " 'such',\n",
       " 'no',\n",
       " 'nor',\n",
       " 'not',\n",
       " 'only',\n",
       " 'own',\n",
       " 'same',\n",
       " 'so',\n",
       " 'than',\n",
       " 'too',\n",
       " 'very',\n",
       " 's',\n",
       " 't',\n",
       " 'can',\n",
       " 'will',\n",
       " 'just',\n",
       " 'don',\n",
       " \"don't\",\n",
       " 'should',\n",
       " \"should've\",\n",
       " 'now',\n",
       " 'd',\n",
       " 'll',\n",
       " 'm',\n",
       " 'o',\n",
       " 're',\n",
       " 've',\n",
       " 'y',\n",
       " 'ain',\n",
       " 'aren',\n",
       " \"aren't\",\n",
       " 'couldn',\n",
       " \"couldn't\",\n",
       " 'didn',\n",
       " \"didn't\",\n",
       " 'doesn',\n",
       " \"doesn't\",\n",
       " 'hadn',\n",
       " \"hadn't\",\n",
       " 'hasn',\n",
       " \"hasn't\",\n",
       " 'haven',\n",
       " \"haven't\",\n",
       " 'isn',\n",
       " \"isn't\",\n",
       " 'ma',\n",
       " 'mightn',\n",
       " \"mightn't\",\n",
       " 'mustn',\n",
       " \"mustn't\",\n",
       " 'needn',\n",
       " \"needn't\",\n",
       " 'shan',\n",
       " \"shan't\",\n",
       " 'shouldn',\n",
       " \"shouldn't\",\n",
       " 'wasn',\n",
       " \"wasn't\",\n",
       " 'weren',\n",
       " \"weren't\",\n",
       " 'won',\n",
       " \"won't\",\n",
       " 'wouldn',\n",
       " \"wouldn't\"]"
      ]
     },
     "execution_count": 65,
     "metadata": {},
     "output_type": "execute_result"
    }
   ],
   "source": [
    "stop=stopwords.words('english')\n",
    "stop"
   ]
  },
  {
   "cell_type": "code",
   "execution_count": 124,
   "id": "256ac928-e0a8-47a1-9045-3a385c92ad37",
   "metadata": {
    "tags": []
   },
   "outputs": [],
   "source": [
    "data=['A paragraph is a series of sentences that are organized and coherent, and are all related to a single topic. Almost every piece of writing you do that is longer than a few sentences should be organized into paragraphs. This is because paragraphs show a reader where the subdivisions of an essay begin and end, and thus help the reader see the organization of the essay and grasp its main points.']"
   ]
  },
  {
   "cell_type": "code",
   "execution_count": 126,
   "id": "720e5c18-bd75-4561-a19e-60dead0e1fab",
   "metadata": {
    "tags": []
   },
   "outputs": [
    {
     "name": "stdout",
     "output_type": "stream",
     "text": [
      "['paragraph series sentence organized coherent related single topic almost every piece writing longer sentence organized paragraph paragraph show reader subdivision essay begin end thus help reader see organization essay grasp main point']\n"
     ]
    }
   ],
   "source": [
    "lem=WordNetLemmatizer()\n",
    "stemm=PorterStemmer()\n",
    "cleaned_data=[]\n",
    "for sent in data:\n",
    "    # print(sent)\n",
    "    sent=sent.lower()\n",
    "    reg=re.sub('[^a-z]',' ',sent)\n",
    "    words=nltk.word_tokenize(reg)\n",
    "    stop=stopwords.words('english')\n",
    "    # cdata=[]\n",
    "    l=[]\n",
    "    for w in words:\n",
    "        \n",
    "        if w not in stop:\n",
    "            data=lem.lemmatize(w)\n",
    "            # data=stemm.stem(w)\n",
    "            l.append(data)\n",
    "            # print(l)\n",
    "        # cdata=' '.join(l)\n",
    "        # print(cdata)\n",
    "cleaned_data.append(' '.join(l))\n",
    "print(cleaned_data)\n"
   ]
  },
  {
   "cell_type": "code",
   "execution_count": 95,
   "id": "26427689-11eb-4c65-b3ee-b2e792c65080",
   "metadata": {
    "tags": []
   },
   "outputs": [
    {
     "data": {
      "text/plain": [
       "'p o i n t'"
      ]
     },
     "execution_count": 95,
     "metadata": {},
     "output_type": "execute_result"
    }
   ],
   "source": [
    "cleaned_data"
   ]
  },
  {
   "cell_type": "code",
   "execution_count": 114,
   "id": "29659300-63d7-4dce-a84c-fa6f9206171c",
   "metadata": {
    "tags": []
   },
   "outputs": [],
   "source": [
    "cleaned=[]\n",
    "stop=stopwords.words('english')\n",
    "stemm=PorterStemmer()\n",
    "\n",
    "for sent in data:\n",
    "    new_sent=re.sub('[^a-zA-Z]',' ',sent)\n",
    "    new_word_list=[]\n",
    "    all_words=nltk.word_tokenize(new_sent)\n",
    "    for w in all_words:\n",
    "        if w not in sw:\n",
    "            stemed_word=stemm.stem(w)\n",
    "            new_word_list.append(stemed_word) \n",
    "cleaned.append(\" \".join(new_word_list))"
   ]
  },
  {
   "cell_type": "code",
   "execution_count": 116,
   "id": "adb4ce9e-b3e0-466c-a481-597963ea5a4f",
   "metadata": {
    "tags": []
   },
   "outputs": [
    {
     "data": {
      "text/plain": [
       "['']"
      ]
     },
     "execution_count": 116,
     "metadata": {},
     "output_type": "execute_result"
    }
   ],
   "source": [
    "cleaned"
   ]
  },
  {
   "cell_type": "code",
   "execution_count": null,
   "id": "2f38fd12-3a36-41cb-88ae-dee1ed7bb594",
   "metadata": {},
   "outputs": [],
   "source": []
  },
  {
   "cell_type": "markdown",
   "id": "5064a6e0-bce6-4895-a2ac-99ef5a38bbe6",
   "metadata": {},
   "source": [
    "# cleaning"
   ]
  },
  {
   "cell_type": "code",
   "execution_count": 6,
   "id": "3851f142-6746-42ab-b1a4-24e47497f00a",
   "metadata": {
    "tags": []
   },
   "outputs": [],
   "source": [
    "d='Along with the smooth flow of sentences, a paragraph’s coherence may also be related to its length. If you have written a very long paragraph, one that fills a double-spaced typed page, for example, you should check it carefully to see if it should start a new paragraph where the original paragraph wanders from its controlling idea. On the other hand, if a paragraph is very short (only one or two sentences, perhaps), you may need to develop its controlling idea more thoroughly, or combine it with another paragraph.'"
   ]
  },
  {
   "cell_type": "code",
   "execution_count": 7,
   "id": "c28b6bd1-b1c8-4cf4-8579-a88766dd8a15",
   "metadata": {
    "tags": []
   },
   "outputs": [],
   "source": [
    "d=d.lower()"
   ]
  },
  {
   "cell_type": "code",
   "execution_count": 8,
   "id": "8fc06521-0c7f-4f0c-a336-3282048f4144",
   "metadata": {
    "tags": []
   },
   "outputs": [],
   "source": [
    "sentence=nltk.sent_tokenize(d)"
   ]
  },
  {
   "cell_type": "code",
   "execution_count": 9,
   "id": "c52a5568-120c-42ad-a555-486d51c9d33c",
   "metadata": {
    "tags": []
   },
   "outputs": [
    {
     "data": {
      "text/plain": [
       "['along with the smooth flow of sentences, a paragraph’s coherence may also be related to its length.',\n",
       " 'if you have written a very long paragraph, one that fills a double-spaced typed page, for example, you should check it carefully to see if it should start a new paragraph where the original paragraph wanders from its controlling idea.',\n",
       " 'on the other hand, if a paragraph is very short (only one or two sentences, perhaps), you may need to develop its controlling idea more thoroughly, or combine it with another paragraph.']"
      ]
     },
     "execution_count": 9,
     "metadata": {},
     "output_type": "execute_result"
    }
   ],
   "source": [
    "sentence"
   ]
  },
  {
   "cell_type": "code",
   "execution_count": 10,
   "id": "e710ff9c-254b-4df7-a18c-316282fc94c5",
   "metadata": {
    "tags": []
   },
   "outputs": [
    {
     "data": {
      "text/plain": [
       "['along',\n",
       " 'with',\n",
       " 'the',\n",
       " 'smooth',\n",
       " 'flow',\n",
       " 'of',\n",
       " 'sentences',\n",
       " ',',\n",
       " 'a',\n",
       " 'paragraph',\n",
       " '’',\n",
       " 's',\n",
       " 'coherence',\n",
       " 'may',\n",
       " 'also',\n",
       " 'be',\n",
       " 'related',\n",
       " 'to',\n",
       " 'its',\n",
       " 'length',\n",
       " '.',\n",
       " 'if',\n",
       " 'you',\n",
       " 'have',\n",
       " 'written',\n",
       " 'a',\n",
       " 'very',\n",
       " 'long',\n",
       " 'paragraph',\n",
       " ',',\n",
       " 'one',\n",
       " 'that',\n",
       " 'fills',\n",
       " 'a',\n",
       " 'double-spaced',\n",
       " 'typed',\n",
       " 'page',\n",
       " ',',\n",
       " 'for',\n",
       " 'example',\n",
       " ',',\n",
       " 'you',\n",
       " 'should',\n",
       " 'check',\n",
       " 'it',\n",
       " 'carefully',\n",
       " 'to',\n",
       " 'see',\n",
       " 'if',\n",
       " 'it',\n",
       " 'should',\n",
       " 'start',\n",
       " 'a',\n",
       " 'new',\n",
       " 'paragraph',\n",
       " 'where',\n",
       " 'the',\n",
       " 'original',\n",
       " 'paragraph',\n",
       " 'wanders',\n",
       " 'from',\n",
       " 'its',\n",
       " 'controlling',\n",
       " 'idea',\n",
       " '.',\n",
       " 'on',\n",
       " 'the',\n",
       " 'other',\n",
       " 'hand',\n",
       " ',',\n",
       " 'if',\n",
       " 'a',\n",
       " 'paragraph',\n",
       " 'is',\n",
       " 'very',\n",
       " 'short',\n",
       " '(',\n",
       " 'only',\n",
       " 'one',\n",
       " 'or',\n",
       " 'two',\n",
       " 'sentences',\n",
       " ',',\n",
       " 'perhaps',\n",
       " ')',\n",
       " ',',\n",
       " 'you',\n",
       " 'may',\n",
       " 'need',\n",
       " 'to',\n",
       " 'develop',\n",
       " 'its',\n",
       " 'controlling',\n",
       " 'idea',\n",
       " 'more',\n",
       " 'thoroughly',\n",
       " ',',\n",
       " 'or',\n",
       " 'combine',\n",
       " 'it',\n",
       " 'with',\n",
       " 'another',\n",
       " 'paragraph',\n",
       " '.']"
      ]
     },
     "execution_count": 10,
     "metadata": {},
     "output_type": "execute_result"
    }
   ],
   "source": [
    "words=nltk.word_tokenize(d)\n",
    "words"
   ]
  },
  {
   "cell_type": "code",
   "execution_count": 14,
   "id": "a8d8f35f-b225-421d-b922-b69a64ddc9f5",
   "metadata": {
    "tags": []
   },
   "outputs": [
    {
     "data": {
      "text/plain": [
       "'along with the smooth flow of sentences  a paragraph s coherence may also be related to its length  if you have written a very long paragraph  one that fills a double spaced typed page  for example  you should check it carefully to see if it should start a new paragraph where the original paragraph wanders from its controlling idea  on the other hand  if a paragraph is very short  only one or two sentences  perhaps   you may need to develop its controlling idea more thoroughly  or combine it with another paragraph '"
      ]
     },
     "execution_count": 14,
     "metadata": {},
     "output_type": "execute_result"
    }
   ],
   "source": [
    "re.sub('[^a-z]',' ',d)"
   ]
  },
  {
   "cell_type": "code",
   "execution_count": 16,
   "id": "9fc86146-2d0c-43b4-8785-03a8f4fc59ff",
   "metadata": {
    "tags": []
   },
   "outputs": [],
   "source": [
    "from nltk.corpus import stopwords\n",
    "sw=stopwords.words('english')"
   ]
  },
  {
   "cell_type": "code",
   "execution_count": 17,
   "id": "b0efdff5-7ed9-488a-a92e-670127567e34",
   "metadata": {
    "tags": []
   },
   "outputs": [
    {
     "data": {
      "text/plain": [
       "['i',\n",
       " 'me',\n",
       " 'my',\n",
       " 'myself',\n",
       " 'we',\n",
       " 'our',\n",
       " 'ours',\n",
       " 'ourselves',\n",
       " 'you',\n",
       " \"you're\",\n",
       " \"you've\",\n",
       " \"you'll\",\n",
       " \"you'd\",\n",
       " 'your',\n",
       " 'yours',\n",
       " 'yourself',\n",
       " 'yourselves',\n",
       " 'he',\n",
       " 'him',\n",
       " 'his',\n",
       " 'himself',\n",
       " 'she',\n",
       " \"she's\",\n",
       " 'her',\n",
       " 'hers',\n",
       " 'herself',\n",
       " 'it',\n",
       " \"it's\",\n",
       " 'its',\n",
       " 'itself',\n",
       " 'they',\n",
       " 'them',\n",
       " 'their',\n",
       " 'theirs',\n",
       " 'themselves',\n",
       " 'what',\n",
       " 'which',\n",
       " 'who',\n",
       " 'whom',\n",
       " 'this',\n",
       " 'that',\n",
       " \"that'll\",\n",
       " 'these',\n",
       " 'those',\n",
       " 'am',\n",
       " 'is',\n",
       " 'are',\n",
       " 'was',\n",
       " 'were',\n",
       " 'be',\n",
       " 'been',\n",
       " 'being',\n",
       " 'have',\n",
       " 'has',\n",
       " 'had',\n",
       " 'having',\n",
       " 'do',\n",
       " 'does',\n",
       " 'did',\n",
       " 'doing',\n",
       " 'a',\n",
       " 'an',\n",
       " 'the',\n",
       " 'and',\n",
       " 'but',\n",
       " 'if',\n",
       " 'or',\n",
       " 'because',\n",
       " 'as',\n",
       " 'until',\n",
       " 'while',\n",
       " 'of',\n",
       " 'at',\n",
       " 'by',\n",
       " 'for',\n",
       " 'with',\n",
       " 'about',\n",
       " 'against',\n",
       " 'between',\n",
       " 'into',\n",
       " 'through',\n",
       " 'during',\n",
       " 'before',\n",
       " 'after',\n",
       " 'above',\n",
       " 'below',\n",
       " 'to',\n",
       " 'from',\n",
       " 'up',\n",
       " 'down',\n",
       " 'in',\n",
       " 'out',\n",
       " 'on',\n",
       " 'off',\n",
       " 'over',\n",
       " 'under',\n",
       " 'again',\n",
       " 'further',\n",
       " 'then',\n",
       " 'once',\n",
       " 'here',\n",
       " 'there',\n",
       " 'when',\n",
       " 'where',\n",
       " 'why',\n",
       " 'how',\n",
       " 'all',\n",
       " 'any',\n",
       " 'both',\n",
       " 'each',\n",
       " 'few',\n",
       " 'more',\n",
       " 'most',\n",
       " 'other',\n",
       " 'some',\n",
       " 'such',\n",
       " 'no',\n",
       " 'nor',\n",
       " 'not',\n",
       " 'only',\n",
       " 'own',\n",
       " 'same',\n",
       " 'so',\n",
       " 'than',\n",
       " 'too',\n",
       " 'very',\n",
       " 's',\n",
       " 't',\n",
       " 'can',\n",
       " 'will',\n",
       " 'just',\n",
       " 'don',\n",
       " \"don't\",\n",
       " 'should',\n",
       " \"should've\",\n",
       " 'now',\n",
       " 'd',\n",
       " 'll',\n",
       " 'm',\n",
       " 'o',\n",
       " 're',\n",
       " 've',\n",
       " 'y',\n",
       " 'ain',\n",
       " 'aren',\n",
       " \"aren't\",\n",
       " 'couldn',\n",
       " \"couldn't\",\n",
       " 'didn',\n",
       " \"didn't\",\n",
       " 'doesn',\n",
       " \"doesn't\",\n",
       " 'hadn',\n",
       " \"hadn't\",\n",
       " 'hasn',\n",
       " \"hasn't\",\n",
       " 'haven',\n",
       " \"haven't\",\n",
       " 'isn',\n",
       " \"isn't\",\n",
       " 'ma',\n",
       " 'mightn',\n",
       " \"mightn't\",\n",
       " 'mustn',\n",
       " \"mustn't\",\n",
       " 'needn',\n",
       " \"needn't\",\n",
       " 'shan',\n",
       " \"shan't\",\n",
       " 'shouldn',\n",
       " \"shouldn't\",\n",
       " 'wasn',\n",
       " \"wasn't\",\n",
       " 'weren',\n",
       " \"weren't\",\n",
       " 'won',\n",
       " \"won't\",\n",
       " 'wouldn',\n",
       " \"wouldn't\"]"
      ]
     },
     "execution_count": 17,
     "metadata": {},
     "output_type": "execute_result"
    }
   ],
   "source": [
    "sw"
   ]
  },
  {
   "cell_type": "code",
   "execution_count": 18,
   "id": "8d0ef954-f11e-4791-908c-5575c99faead",
   "metadata": {
    "tags": []
   },
   "outputs": [],
   "source": [
    "lem=WordNetLemmatizer()\n",
    "sw=stopwords.words('english')\n",
    "cd=[]\n",
    "l=[]\n",
    "for sent in sentence:\n",
    "    sent=sent.lower()\n",
    "    reg=re.sub('[^a-z]',' ',sent)\n",
    "    words=nltk.word_tokenize(reg)\n",
    "    # print(words)\n",
    "    for w in words:\n",
    "        if w not in sw:\n",
    "            # print(w)\n",
    "            a=lem.lemmatize(w)\n",
    "            l.append(a)\n",
    "cd.append(' '.join(l))"
   ]
  },
  {
   "cell_type": "code",
   "execution_count": 20,
   "id": "2e84e2ff",
   "metadata": {},
   "outputs": [
    {
     "data": {
      "text/plain": [
       "['along',\n",
       " 'smooth',\n",
       " 'flow',\n",
       " 'sentence',\n",
       " 'paragraph',\n",
       " 'coherence',\n",
       " 'may',\n",
       " 'also',\n",
       " 'related',\n",
       " 'length',\n",
       " 'written',\n",
       " 'long',\n",
       " 'paragraph',\n",
       " 'one',\n",
       " 'fill',\n",
       " 'double',\n",
       " 'spaced',\n",
       " 'typed',\n",
       " 'page',\n",
       " 'example',\n",
       " 'check',\n",
       " 'carefully',\n",
       " 'see',\n",
       " 'start',\n",
       " 'new',\n",
       " 'paragraph',\n",
       " 'original',\n",
       " 'paragraph',\n",
       " 'wanders',\n",
       " 'controlling',\n",
       " 'idea',\n",
       " 'hand',\n",
       " 'paragraph',\n",
       " 'short',\n",
       " 'one',\n",
       " 'two',\n",
       " 'sentence',\n",
       " 'perhaps',\n",
       " 'may',\n",
       " 'need',\n",
       " 'develop',\n",
       " 'controlling',\n",
       " 'idea',\n",
       " 'thoroughly',\n",
       " 'combine',\n",
       " 'another',\n",
       " 'paragraph']"
      ]
     },
     "execution_count": 20,
     "metadata": {},
     "output_type": "execute_result"
    }
   ],
   "source": [
    "l"
   ]
  },
  {
   "cell_type": "code",
   "execution_count": 19,
   "id": "8959e180-ca52-4a2a-9dca-74123bccf939",
   "metadata": {
    "tags": []
   },
   "outputs": [
    {
     "data": {
      "text/plain": [
       "['along smooth flow sentence paragraph coherence may also related length written long paragraph one fill double spaced typed page example check carefully see start new paragraph original paragraph wanders controlling idea hand paragraph short one two sentence perhaps may need develop controlling idea thoroughly combine another paragraph']"
      ]
     },
     "execution_count": 19,
     "metadata": {},
     "output_type": "execute_result"
    }
   ],
   "source": [
    "cd"
   ]
  },
  {
   "cell_type": "code",
   "execution_count": null,
   "id": "3e0f4757-e823-4ad7-9416-764d82bfbd77",
   "metadata": {},
   "outputs": [],
   "source": []
  }
 ],
 "metadata": {
  "kernelspec": {
   "display_name": "Python 3 (ipykernel)",
   "language": "python",
   "name": "python3"
  },
  "language_info": {
   "codemirror_mode": {
    "name": "ipython",
    "version": 3
   },
   "file_extension": ".py",
   "mimetype": "text/x-python",
   "name": "python",
   "nbconvert_exporter": "python",
   "pygments_lexer": "ipython3",
   "version": "3.11.4"
  }
 },
 "nbformat": 4,
 "nbformat_minor": 5
}
